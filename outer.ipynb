{
 "cells": [
  {
   "cell_type": "code",
   "execution_count": 13,
   "metadata": {},
   "outputs": [],
   "source": [
    "import numpy as np"
   ]
  },
  {
   "cell_type": "code",
   "execution_count": 2,
   "metadata": {},
   "outputs": [],
   "source": [
    "a = np.arange(1,5)\n",
    "b = np.array([1,4])\n",
    "data = np.arange(5,7)"
   ]
  },
  {
   "cell_type": "code",
   "execution_count": 3,
   "metadata": {},
   "outputs": [],
   "source": [
    "aa = np.array([a,2*a])"
   ]
  },
  {
   "cell_type": "code",
   "execution_count": 4,
   "metadata": {},
   "outputs": [
    {
     "name": "stdout",
     "output_type": "stream",
     "text": [
      "[[   1    2    3    4]\n",
      " [  16  256 1296 4096]]\n",
      "[   5 1296]\n"
     ]
    }
   ],
   "source": [
    "c = np.reshape(b,(2,1))\n",
    "print aa**c\n",
    "print data**b"
   ]
  },
  {
   "cell_type": "code",
   "execution_count": 5,
   "metadata": {},
   "outputs": [
    {
     "name": "stdout",
     "output_type": "stream",
     "text": [
      "[[ 2 17]\n",
      " [ 3 18]]\n"
     ]
    }
   ],
   "source": [
    "d = np.array([b**2+1,b**2+2])\n",
    "print d"
   ]
  },
  {
   "cell_type": "code",
   "execution_count": 6,
   "metadata": {},
   "outputs": [
    {
     "name": "stdout",
     "output_type": "stream",
     "text": [
      "[[1 3 3]\n",
      " [4 5 6]]\n"
     ]
    }
   ],
   "source": [
    "f= np.array([[1,3,3],[4,5,6]])\n",
    "print f"
   ]
  },
  {
   "cell_type": "code",
   "execution_count": 7,
   "metadata": {
    "collapsed": true
   },
   "outputs": [],
   "source": [
    "ff = np.array([[[1,2],[2,4],[5,6]],[[2,5],[8,9],[5,6]]])"
   ]
  },
  {
   "cell_type": "code",
   "execution_count": 8,
   "metadata": {},
   "outputs": [
    {
     "name": "stdout",
     "output_type": "stream",
     "text": [
      "[[[1 2]\n",
      "  [2 4]\n",
      "  [5 6]]\n",
      "\n",
      " [[2 5]\n",
      "  [8 9]\n",
      "  [5 6]]]\n"
     ]
    }
   ],
   "source": [
    "print ff"
   ]
  },
  {
   "cell_type": "code",
   "execution_count": 9,
   "metadata": {},
   "outputs": [
    {
     "data": {
      "text/plain": [
       "array([[ 2,  8, 30],\n",
       "       [10, 72, 30]])"
      ]
     },
     "execution_count": 9,
     "metadata": {},
     "output_type": "execute_result"
    }
   ],
   "source": [
    "np.prod(ff, axis=2)"
   ]
  },
  {
   "cell_type": "code",
   "execution_count": 10,
   "metadata": {},
   "outputs": [
    {
     "data": {
      "text/plain": [
       "array([[ 6,  7],\n",
       "       [ 9, 10]])"
      ]
     },
     "execution_count": 10,
     "metadata": {},
     "output_type": "execute_result"
    }
   ],
   "source": [
    "np.add.outer(b,data)"
   ]
  },
  {
   "cell_type": "code",
   "execution_count": 11,
   "metadata": {},
   "outputs": [
    {
     "name": "stdout",
     "output_type": "stream",
     "text": [
      "[1 4] [5 6]\n"
     ]
    }
   ],
   "source": [
    "print b, data"
   ]
  },
  {
   "cell_type": "code",
   "execution_count": 13,
   "metadata": {},
   "outputs": [
    {
     "name": "stdout",
     "output_type": "stream",
     "text": [
      "[[1 2 3 4]\n",
      " [2 4 6 8]]\n",
      "[1 4]\n"
     ]
    }
   ],
   "source": [
    "print aa\n",
    "print b"
   ]
  },
  {
   "cell_type": "code",
   "execution_count": 14,
   "metadata": {},
   "outputs": [
    {
     "name": "stdout",
     "output_type": "stream",
     "text": [
      "[[[ 2  3  4  5]\n",
      "  [ 3  5  7  9]]\n",
      "\n",
      " [[ 5  6  7  8]\n",
      "  [ 6  8 10 12]]]\n"
     ]
    }
   ],
   "source": [
    "myouter = np.add.outer(b,aa)\n",
    "print myouter\n",
    "myouter2 = np.add.outer(aa,b)\n",
    "#print myouter2"
   ]
  },
  {
   "cell_type": "code",
   "execution_count": 15,
   "metadata": {},
   "outputs": [
    {
     "data": {
      "text/plain": [
       "array([[ 10,  18,  28,  40],\n",
       "       [ 18,  40,  70, 108]])"
      ]
     },
     "execution_count": 15,
     "metadata": {},
     "output_type": "execute_result"
    }
   ],
   "source": [
    "np.prod(myouter, axis=0)"
   ]
  },
  {
   "cell_type": "code",
   "execution_count": 15,
   "metadata": {},
   "outputs": [
    {
     "data": {
      "text/plain": [
       "array([5, 6])"
      ]
     },
     "execution_count": 15,
     "metadata": {},
     "output_type": "execute_result"
    }
   ],
   "source": [
    "data"
   ]
  },
  {
   "cell_type": "code",
   "execution_count": 16,
   "metadata": {},
   "outputs": [
    {
     "name": "stdout",
     "output_type": "stream",
     "text": [
      "[[1 2 3 4]\n",
      " [2 4 6 8]]\n",
      "[1 4]\n"
     ]
    }
   ],
   "source": [
    "print aa\n",
    "print b"
   ]
  },
  {
   "cell_type": "code",
   "execution_count": 31,
   "metadata": {},
   "outputs": [
    {
     "data": {
      "text/plain": [
       "array([[[   1,    1],\n",
       "        [   2,   16],\n",
       "        [   3,   81],\n",
       "        [   4,  256]],\n",
       "\n",
       "       [[   2,   16],\n",
       "        [   4,  256],\n",
       "        [   6, 1296],\n",
       "        [   8, 4096]]])"
      ]
     },
     "execution_count": 31,
     "metadata": {},
     "output_type": "execute_result"
    }
   ],
   "source": [
    "np.power.outer(aa,b)"
   ]
  },
  {
   "cell_type": "code",
   "execution_count": 1,
   "metadata": {},
   "outputs": [
    {
     "ename": "ModuleNotFoundError",
     "evalue": "No module named 'SpinWeightSphHarm'",
     "output_type": "error",
     "traceback": [
      "\u001b[1;31m---------------------------------------------------------------------------\u001b[0m",
      "\u001b[1;31mModuleNotFoundError\u001b[0m                       Traceback (most recent call last)",
      "\u001b[1;32m~\\AppData\\Local\\Temp/ipykernel_17936/3622639432.py\u001b[0m in \u001b[0;36m<module>\u001b[1;34m\u001b[0m\n\u001b[1;32m----> 1\u001b[1;33m \u001b[1;32mfrom\u001b[0m  \u001b[0mSpinWeightSphHarm\u001b[0m \u001b[1;32mimport\u001b[0m \u001b[1;33m*\u001b[0m\u001b[1;33m\u001b[0m\u001b[1;33m\u001b[0m\u001b[0m\n\u001b[0m\u001b[0;32m      2\u001b[0m \u001b[1;32mimport\u001b[0m \u001b[0msympy\u001b[0m \u001b[1;32mas\u001b[0m \u001b[0msym\u001b[0m\u001b[1;33m\u001b[0m\u001b[1;33m\u001b[0m\u001b[0m\n\u001b[0;32m      3\u001b[0m \u001b[1;32mfrom\u001b[0m \u001b[0msympy\u001b[0m\u001b[1;33m.\u001b[0m\u001b[0mabc\u001b[0m \u001b[1;32mimport\u001b[0m \u001b[0mtheta\u001b[0m\u001b[1;33m,\u001b[0m \u001b[0mphi\u001b[0m\u001b[1;33m\u001b[0m\u001b[1;33m\u001b[0m\u001b[0m\n\u001b[0;32m      4\u001b[0m \u001b[1;32mfrom\u001b[0m \u001b[0msympy\u001b[0m\u001b[1;33m.\u001b[0m\u001b[0mphysics\u001b[0m\u001b[1;33m.\u001b[0m\u001b[0mwigner\u001b[0m \u001b[1;32mimport\u001b[0m \u001b[0mclebsch_gordan\u001b[0m\u001b[1;33m\u001b[0m\u001b[1;33m\u001b[0m\u001b[0m\n\u001b[0;32m      5\u001b[0m \u001b[0msym\u001b[0m\u001b[1;33m.\u001b[0m\u001b[0minit_printing\u001b[0m\u001b[1;33m(\u001b[0m\u001b[1;33m)\u001b[0m\u001b[1;33m\u001b[0m\u001b[1;33m\u001b[0m\u001b[0m\n",
      "\u001b[1;31mModuleNotFoundError\u001b[0m: No module named 'SpinWeightSphHarm'"
     ]
    }
   ],
   "source": [
    "from  SpinWeightSphHarm import *\n",
    "import sympy as sym\n",
    "from sympy.abc import theta, phi\n",
    "from sympy.physics.wigner import clebsch_gordan\n",
    "sym.init_printing()"
   ]
  },
  {
   "cell_type": "code",
   "execution_count": 15,
   "metadata": {},
   "outputs": [
    {
     "data": {
      "image/png": "[encoded data removed]",
      "text/latex": [
       "$$\\left [ \\frac{0.5 \\sqrt{5}}{\\sqrt{\\pi}} e^{- 2 i \\phi} \\sin^{4}{\\left (\\frac{\\theta}{2} \\right )}, \\quad \\frac{1.0 \\sqrt{5}}{\\sqrt{\\pi}} e^{- i \\phi} \\sin^{4}{\\left (\\frac{\\theta}{2} \\right )} \\cot{\\left (\\frac{\\theta}{2} \\right )}, \\quad \\frac{\\sqrt{30}}{16 \\sqrt{\\pi}} \\left(- \\cos{\\left (2 \\theta \\right )} + 1\\right), \\quad \\frac{\\sqrt{5}}{\\sqrt{\\pi}} e^{i \\phi} \\sin{\\left (\\frac{\\theta}{2} \\right )} \\cos^{3}{\\left (\\frac{\\theta}{2} \\right )}, \\quad \\frac{\\sqrt{5} e^{2 i \\phi}}{2 \\sqrt{\\pi}} \\cos^{4}{\\left (\\frac{\\theta}{2} \\right )}\\right ]$$"
      ],
      "text/plain": [
       "⎡        -2⋅ⅈ⋅φ    4⎛θ⎞          -ⅈ⋅φ    4⎛θ⎞    ⎛θ⎞                          \n",
       "⎢0.5⋅√5⋅ℯ      ⋅sin ⎜─⎟  1.0⋅√5⋅ℯ    ⋅sin ⎜─⎟⋅cot⎜─⎟                       √5⋅\n",
       "⎢                   ⎝2⎠                   ⎝2⎠    ⎝2⎠  √30⋅(-cos(2⋅θ) + 1)     \n",
       "⎢──────────────────────, ───────────────────────────, ───────────────────, ───\n",
       "⎣          √π                         √π                     16⋅√π            \n",
       "\n",
       " ⅈ⋅φ    ⎛θ⎞    3⎛θ⎞      2⋅ⅈ⋅φ    4⎛θ⎞⎤\n",
       "ℯ   ⋅sin⎜─⎟⋅cos ⎜─⎟  √5⋅ℯ     ⋅cos ⎜─⎟⎥\n",
       "        ⎝2⎠     ⎝2⎠                ⎝2⎠⎥\n",
       "───────────────────, ─────────────────⎥\n",
       "       √π                   2⋅√π      ⎦"
      ]
     },
     "execution_count": 15,
     "metadata": {},
     "output_type": "execute_result"
    }
   ],
   "source": [
    "[sYnm(-2, 2, n, theta, phi) for n in range(-2, 3)]"
   ]
  },
  {
   "cell_type": "code",
   "execution_count": null,
   "metadata": {
    "collapsed": true
   },
   "outputs": [],
   "source": []
  }
 ],
 "metadata": {
  "kernelspec": {
   "display_name": "Python 3 (ipykernel)",
   "language": "python",
   "name": "python3"
  },
  "language_info": {
   "codemirror_mode": {
    "name": "ipython",
    "version": 3
   },
   "file_extension": ".py",
   "mimetype": "text/x-python",
   "name": "python",
   "nbconvert_exporter": "python",
   "pygments_lexer": "ipython3",
   "version": "3.9.7"
  }
 },
 "nbformat": 4,
 "nbformat_minor": 1
}
